{
 "cells": [
  {
   "cell_type": "code",
   "execution_count": 2,
   "id": "8d525d0d",
   "metadata": {},
   "outputs": [],
   "source": [
    "import pandas as pd\n",
    "import numpy as np\n",
    "\n",
    "import matplotlib.pyplot as plt\n",
    "import seaborn as sns\n",
    "\n",
    "from sklearn.model_selection import train_test_split"
   ]
  },
  {
   "cell_type": "code",
   "execution_count": 8,
   "id": "f1fc9f9c",
   "metadata": {},
   "outputs": [],
   "source": [
    "df=pd.read_csv('../output/step5/train_processed.csv')\n",
    "df['dh']=pd.to_datetime(df['date_hour']).apply(lambda x:str((x.weekday(),x.hour)))\n",
    "df_1=df[['Brooklyn','Queens','Manhattan','dh']].iloc[1:].copy().reset_index(drop=True)\n",
    "df_temp=df[:-1][['Brooklyn','Queens','Manhattan']].copy()\n",
    "for col in df_temp.columns:\n",
    "    df_1[f'lag1({col})']=df_temp[col]\n",
    "df_2=pd.concat([df_1.drop('dh', axis=1), pd.get_dummies(df_1['dh'])], axis=1)\n",
    "df_2.to_csv('../output/step7/train.csv',index=False)"
   ]
  },
  {
   "cell_type": "code",
   "execution_count": 9,
   "id": "82083cd0",
   "metadata": {},
   "outputs": [],
   "source": [
    "df=pd.read_csv('../output/step5/test_processed.csv')\n",
    "df['dh']=pd.to_datetime(df['date_hour']).apply(lambda x:str((x.weekday(),x.hour)))\n",
    "df_1=df[['Brooklyn','Queens','Manhattan','dh']].iloc[1:].copy().reset_index(drop=True)\n",
    "df_temp=df[:-1][['Brooklyn','Queens','Manhattan']].copy()\n",
    "for col in df_temp.columns:\n",
    "    df_1[f'lag1({col})']=df_temp[col]\n",
    "df_2=pd.concat([df_1.drop('dh', axis=1), pd.get_dummies(df_1['dh'])], axis=1)\n",
    "df_2.to_csv('../output/step7/test.csv',index=False)"
   ]
  },
  {
   "cell_type": "code",
   "execution_count": null,
   "id": "22e19b96",
   "metadata": {},
   "outputs": [],
   "source": []
  }
 ],
 "metadata": {
  "kernelspec": {
   "display_name": "Python 3 (ipykernel)",
   "language": "python",
   "name": "python3"
  },
  "language_info": {
   "codemirror_mode": {
    "name": "ipython",
    "version": 3
   },
   "file_extension": ".py",
   "mimetype": "text/x-python",
   "name": "python",
   "nbconvert_exporter": "python",
   "pygments_lexer": "ipython3",
   "version": "3.9.7"
  }
 },
 "nbformat": 4,
 "nbformat_minor": 5
}
