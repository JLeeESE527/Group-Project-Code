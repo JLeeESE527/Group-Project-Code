{
 "cells": [
  {
   "cell_type": "code",
   "execution_count": 2,
   "id": "0cde8e5d",
   "metadata": {},
   "outputs": [],
   "source": [
    "import pandas as pd\n",
    "import numpy as np\n",
    "\n",
    "import matplotlib.pyplot as plt\n",
    "import seaborn as sns\n",
    "import datetime"
   ]
  },
  {
   "cell_type": "code",
   "execution_count": 3,
   "id": "e9ad9adf",
   "metadata": {},
   "outputs": [],
   "source": [
    "df=pd.read_csv('../output/step4/train.csv')\n",
    "df=df[df.columns[1:]].copy()\n",
    "df=df.sort_values(['time'])\n",
    "df['date_hour']=df.apply(lambda r:datetime.datetime(2014,r['month'],r['day'],r['hour']),axis=1)\n",
    "df_groupby=df.groupby(['area','date_hour'],as_index=False).size()\n",
    "pt=pd.pivot_table(df_groupby,values='size',index=['date_hour','area'],aggfunc=np.sum, fill_value=0)\n",
    "df_1=pd.DataFrame(pd.date_range(df['date_hour'].min(),df['date_hour'].max(),freq='H'),columns=['date_hour'])\n",
    "df_1=df_1.set_index('date_hour')\n",
    "dic=pt.to_dict()['size']\n",
    "for area in list(filter(lambda x:type(x)==str,set(df['area']))):\n",
    "    df_1[area]=list(map(lambda x:dic[(x,area)] if (x,area) in dic.keys() else 0,list(df_1.index)))\n",
    "df_1.to_csv('../output/step5/train_processed.csv')"
   ]
  },
  {
   "cell_type": "code",
   "execution_count": 4,
   "id": "8c1ae4d6",
   "metadata": {},
   "outputs": [],
   "source": [
    "df=pd.read_csv('../output/step4/test.csv')\n",
    "df=df[df.columns[1:]].copy()\n",
    "df=df.sort_values(['time'])\n",
    "df['date_hour']=df.apply(lambda r:datetime.datetime(2014,r['month'],r['day'],r['hour']),axis=1)\n",
    "df_groupby=df.groupby(['area','date_hour'],as_index=False).size()\n",
    "pt=pd.pivot_table(df_groupby,values='size',index=['date_hour','area'],aggfunc=np.sum, fill_value=0)\n",
    "df_1=pd.DataFrame(pd.date_range(df['date_hour'].min(),df['date_hour'].max(),freq='H'),columns=['date_hour'])\n",
    "df_1=df_1.set_index('date_hour')\n",
    "dic=pt.to_dict()['size']\n",
    "for area in list(filter(lambda x:type(x)==str,set(df['area']))):\n",
    "    df_1[area]=list(map(lambda x:dic[(x,area)] if (x,area) in dic.keys() else 0,list(df_1.index)))\n",
    "df_1.to_csv('../output/step5/test_processed.csv')"
   ]
  },
  {
   "cell_type": "code",
   "execution_count": 110,
   "id": "114498df",
   "metadata": {},
   "outputs": [],
   "source": []
  },
  {
   "cell_type": "code",
   "execution_count": 113,
   "id": "0691fb6f",
   "metadata": {},
   "outputs": [],
   "source": []
  }
 ],
 "metadata": {
  "kernelspec": {
   "display_name": "Python 3 (ipykernel)",
   "language": "python",
   "name": "python3"
  },
  "language_info": {
   "codemirror_mode": {
    "name": "ipython",
    "version": 3
   },
   "file_extension": ".py",
   "mimetype": "text/x-python",
   "name": "python",
   "nbconvert_exporter": "python",
   "pygments_lexer": "ipython3",
   "version": "3.9.7"
  }
 },
 "nbformat": 4,
 "nbformat_minor": 5
}
