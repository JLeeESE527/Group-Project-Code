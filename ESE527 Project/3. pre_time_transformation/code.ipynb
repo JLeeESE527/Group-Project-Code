{
 "cells": [
  {
   "cell_type": "code",
   "execution_count": 1,
   "id": "0f3f5b2c",
   "metadata": {},
   "outputs": [],
   "source": [
    "import pandas as pd\n",
    "import numpy as np\n",
    "\n",
    "import matplotlib.pyplot as plt\n",
    "import seaborn as sns"
   ]
  },
  {
   "cell_type": "code",
   "execution_count": 2,
   "id": "307fccf7",
   "metadata": {},
   "outputs": [],
   "source": [
    "df=pd.read_csv(\"../output/step2/processed_file.csv\")[['time','area']]"
   ]
  },
  {
   "cell_type": "code",
   "execution_count": 3,
   "id": "25c713a2",
   "metadata": {},
   "outputs": [
    {
     "data": {
      "text/plain": [
       "4534327"
      ]
     },
     "execution_count": 3,
     "metadata": {},
     "output_type": "execute_result"
    }
   ],
   "source": [
    "len(df)"
   ]
  },
  {
   "cell_type": "code",
   "execution_count": 6,
   "id": "4a659089",
   "metadata": {},
   "outputs": [],
   "source": [
    "df['time']=pd.to_datetime(df['time'])"
   ]
  },
  {
   "cell_type": "code",
   "execution_count": 7,
   "id": "287d2877",
   "metadata": {},
   "outputs": [],
   "source": [
    "df['month']=df['time'].apply(lambda x:x.month)\n",
    "df['day']=df['time'].apply(lambda x:x.day)\n",
    "df['hour']=df['time'].apply(lambda x:x.hour)\n",
    "df['minute']=df['time'].apply(lambda x:x.minute)\n",
    "df['weekday']=df['time'].apply(lambda x:x.weekday())"
   ]
  },
  {
   "cell_type": "code",
   "execution_count": 9,
   "id": "70139c3e",
   "metadata": {},
   "outputs": [
    {
     "data": {
      "text/plain": [
       "{0, 1, 2, 3, 4, 5, 6}"
      ]
     },
     "execution_count": 9,
     "metadata": {},
     "output_type": "execute_result"
    }
   ],
   "source": [
    "df.to_csv('../output/step3/processed_file.csv')"
   ]
  },
  {
   "cell_type": "code",
   "execution_count": null,
   "id": "4bd34b44",
   "metadata": {},
   "outputs": [],
   "source": []
  }
 ],
 "metadata": {
  "kernelspec": {
   "display_name": "Python 3 (ipykernel)",
   "language": "python",
   "name": "python3"
  },
  "language_info": {
   "codemirror_mode": {
    "name": "ipython",
    "version": 3
   },
   "file_extension": ".py",
   "mimetype": "text/x-python",
   "name": "python",
   "nbconvert_exporter": "python",
   "pygments_lexer": "ipython3",
   "version": "3.9.7"
  }
 },
 "nbformat": 4,
 "nbformat_minor": 5
}
